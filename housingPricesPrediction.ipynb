{
 "cells": [
  {
   "cell_type": "code",
   "execution_count": 4,
   "id": "9db9a16c",
   "metadata": {},
   "outputs": [],
   "source": [
    "# import the pandas and numpy packages\n",
    "import pandas as pd\n",
    "import numpy as np"
   ]
  },
  {
   "cell_type": "code",
   "execution_count": 5,
   "id": "e181a96b",
   "metadata": {},
   "outputs": [],
   "source": [
    "# read the dataset and copy the data to avoid change in original dataset\n",
    "data = pd.read_csv(\"C:\\\\Users\\\\Najwan\\\\OneDrive\\\\Desktop\\\\Datasets\\\\house.csv\")\n",
    "d1 = data.copy()"
   ]
  },
  {
   "cell_type": "code",
   "execution_count": 8,
   "id": "e4b946d8",
   "metadata": {},
   "outputs": [
    {
     "data": {
      "text/html": [
       "<div>\n",
       "<style scoped>\n",
       "    .dataframe tbody tr th:only-of-type {\n",
       "        vertical-align: middle;\n",
       "    }\n",
       "\n",
       "    .dataframe tbody tr th {\n",
       "        vertical-align: top;\n",
       "    }\n",
       "\n",
       "    .dataframe thead th {\n",
       "        text-align: right;\n",
       "    }\n",
       "</style>\n",
       "<table border=\"1\" class=\"dataframe\">\n",
       "  <thead>\n",
       "    <tr style=\"text-align: right;\">\n",
       "      <th></th>\n",
       "      <th>bedroom_count</th>\n",
       "      <th>net_sqm</th>\n",
       "      <th>center_distance</th>\n",
       "      <th>metro_distance</th>\n",
       "      <th>floor</th>\n",
       "      <th>age</th>\n",
       "      <th>price</th>\n",
       "    </tr>\n",
       "  </thead>\n",
       "  <tbody>\n",
       "    <tr>\n",
       "      <th>0</th>\n",
       "      <td>1</td>\n",
       "      <td>26.184098</td>\n",
       "      <td>1286.68</td>\n",
       "      <td>204.003817</td>\n",
       "      <td>22</td>\n",
       "      <td>67</td>\n",
       "      <td>96004.804557</td>\n",
       "    </tr>\n",
       "    <tr>\n",
       "      <th>1</th>\n",
       "      <td>1</td>\n",
       "      <td>34.866901</td>\n",
       "      <td>1855.25</td>\n",
       "      <td>186.980360</td>\n",
       "      <td>8</td>\n",
       "      <td>30</td>\n",
       "      <td>92473.722570</td>\n",
       "    </tr>\n",
       "    <tr>\n",
       "      <th>2</th>\n",
       "      <td>1</td>\n",
       "      <td>36.980709</td>\n",
       "      <td>692.09</td>\n",
       "      <td>111.224999</td>\n",
       "      <td>24</td>\n",
       "      <td>24</td>\n",
       "      <td>98112.519940</td>\n",
       "    </tr>\n",
       "    <tr>\n",
       "      <th>3</th>\n",
       "      <td>1</td>\n",
       "      <td>17.445723</td>\n",
       "      <td>1399.49</td>\n",
       "      <td>237.998760</td>\n",
       "      <td>1</td>\n",
       "      <td>66</td>\n",
       "      <td>92118.326874</td>\n",
       "    </tr>\n",
       "    <tr>\n",
       "      <th>4</th>\n",
       "      <td>1</td>\n",
       "      <td>52.587646</td>\n",
       "      <td>84.65</td>\n",
       "      <td>100.996400</td>\n",
       "      <td>20</td>\n",
       "      <td>3</td>\n",
       "      <td>98976.653176</td>\n",
       "    </tr>\n",
       "  </tbody>\n",
       "</table>\n",
       "</div>"
      ],
      "text/plain": [
       "   bedroom_count    net_sqm  center_distance  metro_distance  floor  age  \\\n",
       "0              1  26.184098          1286.68      204.003817     22   67   \n",
       "1              1  34.866901          1855.25      186.980360      8   30   \n",
       "2              1  36.980709           692.09      111.224999     24   24   \n",
       "3              1  17.445723          1399.49      237.998760      1   66   \n",
       "4              1  52.587646            84.65      100.996400     20    3   \n",
       "\n",
       "          price  \n",
       "0  96004.804557  \n",
       "1  92473.722570  \n",
       "2  98112.519940  \n",
       "3  92118.326874  \n",
       "4  98976.653176  "
      ]
     },
     "execution_count": 8,
     "metadata": {},
     "output_type": "execute_result"
    }
   ],
   "source": [
    "# create a dataframe\n",
    "df = pd.DataFrame(d1)\n",
    "df.head()"
   ]
  },
  {
   "cell_type": "code",
   "execution_count": 20,
   "id": "e22e8d3e",
   "metadata": {},
   "outputs": [
    {
     "data": {
      "text/plain": [
       "(4308, 7)"
      ]
     },
     "execution_count": 20,
     "metadata": {},
     "output_type": "execute_result"
    }
   ],
   "source": [
    "# get the details about the dataset\n",
    "df.shape"
   ]
  },
  {
   "cell_type": "code",
   "execution_count": 21,
   "id": "c64045c3",
   "metadata": {},
   "outputs": [
    {
     "data": {
      "text/html": [
       "<div>\n",
       "<style scoped>\n",
       "    .dataframe tbody tr th:only-of-type {\n",
       "        vertical-align: middle;\n",
       "    }\n",
       "\n",
       "    .dataframe tbody tr th {\n",
       "        vertical-align: top;\n",
       "    }\n",
       "\n",
       "    .dataframe thead th {\n",
       "        text-align: right;\n",
       "    }\n",
       "</style>\n",
       "<table border=\"1\" class=\"dataframe\">\n",
       "  <thead>\n",
       "    <tr style=\"text-align: right;\">\n",
       "      <th></th>\n",
       "      <th>bedroom_count</th>\n",
       "      <th>net_sqm</th>\n",
       "      <th>center_distance</th>\n",
       "      <th>metro_distance</th>\n",
       "      <th>floor</th>\n",
       "      <th>age</th>\n",
       "      <th>price</th>\n",
       "    </tr>\n",
       "  </thead>\n",
       "  <tbody>\n",
       "    <tr>\n",
       "      <th>count</th>\n",
       "      <td>4308.000000</td>\n",
       "      <td>4308.000000</td>\n",
       "      <td>4308.000000</td>\n",
       "      <td>4308.000000</td>\n",
       "      <td>4308.000000</td>\n",
       "      <td>4308.000000</td>\n",
       "      <td>4308.000000</td>\n",
       "    </tr>\n",
       "    <tr>\n",
       "      <th>mean</th>\n",
       "      <td>3.732823</td>\n",
       "      <td>118.941327</td>\n",
       "      <td>1090.544301</td>\n",
       "      <td>105.665358</td>\n",
       "      <td>9.397168</td>\n",
       "      <td>48.576834</td>\n",
       "      <td>95701.196185</td>\n",
       "    </tr>\n",
       "    <tr>\n",
       "      <th>std</th>\n",
       "      <td>2.476989</td>\n",
       "      <td>95.469802</td>\n",
       "      <td>555.325830</td>\n",
       "      <td>60.750825</td>\n",
       "      <td>7.517018</td>\n",
       "      <td>27.621465</td>\n",
       "      <td>3919.823988</td>\n",
       "    </tr>\n",
       "    <tr>\n",
       "      <th>min</th>\n",
       "      <td>1.000000</td>\n",
       "      <td>10.244518</td>\n",
       "      <td>11.800000</td>\n",
       "      <td>1.245338</td>\n",
       "      <td>1.000000</td>\n",
       "      <td>0.000000</td>\n",
       "      <td>86113.592974</td>\n",
       "    </tr>\n",
       "    <tr>\n",
       "      <th>25%</th>\n",
       "      <td>2.000000</td>\n",
       "      <td>52.240659</td>\n",
       "      <td>635.897500</td>\n",
       "      <td>56.156897</td>\n",
       "      <td>2.000000</td>\n",
       "      <td>25.000000</td>\n",
       "      <td>92934.251437</td>\n",
       "    </tr>\n",
       "    <tr>\n",
       "      <th>50%</th>\n",
       "      <td>3.000000</td>\n",
       "      <td>91.828201</td>\n",
       "      <td>1143.135000</td>\n",
       "      <td>101.388012</td>\n",
       "      <td>8.000000</td>\n",
       "      <td>48.000000</td>\n",
       "      <td>95337.792918</td>\n",
       "    </tr>\n",
       "    <tr>\n",
       "      <th>75%</th>\n",
       "      <td>5.000000</td>\n",
       "      <td>150.987591</td>\n",
       "      <td>1554.280000</td>\n",
       "      <td>148.481068</td>\n",
       "      <td>16.000000</td>\n",
       "      <td>72.000000</td>\n",
       "      <td>97980.675094</td>\n",
       "    </tr>\n",
       "    <tr>\n",
       "      <th>max</th>\n",
       "      <td>17.000000</td>\n",
       "      <td>750.971604</td>\n",
       "      <td>1999.840000</td>\n",
       "      <td>330.275317</td>\n",
       "      <td>24.000000</td>\n",
       "      <td>97.000000</td>\n",
       "      <td>118134.771190</td>\n",
       "    </tr>\n",
       "  </tbody>\n",
       "</table>\n",
       "</div>"
      ],
      "text/plain": [
       "       bedroom_count      net_sqm  center_distance  metro_distance  \\\n",
       "count    4308.000000  4308.000000      4308.000000     4308.000000   \n",
       "mean        3.732823   118.941327      1090.544301      105.665358   \n",
       "std         2.476989    95.469802       555.325830       60.750825   \n",
       "min         1.000000    10.244518        11.800000        1.245338   \n",
       "25%         2.000000    52.240659       635.897500       56.156897   \n",
       "50%         3.000000    91.828201      1143.135000      101.388012   \n",
       "75%         5.000000   150.987591      1554.280000      148.481068   \n",
       "max        17.000000   750.971604      1999.840000      330.275317   \n",
       "\n",
       "             floor          age          price  \n",
       "count  4308.000000  4308.000000    4308.000000  \n",
       "mean      9.397168    48.576834   95701.196185  \n",
       "std       7.517018    27.621465    3919.823988  \n",
       "min       1.000000     0.000000   86113.592974  \n",
       "25%       2.000000    25.000000   92934.251437  \n",
       "50%       8.000000    48.000000   95337.792918  \n",
       "75%      16.000000    72.000000   97980.675094  \n",
       "max      24.000000    97.000000  118134.771190  "
      ]
     },
     "execution_count": 21,
     "metadata": {},
     "output_type": "execute_result"
    }
   ],
   "source": [
    "df.describe()"
   ]
  },
  {
   "cell_type": "code",
   "execution_count": 63,
   "id": "1689b827",
   "metadata": {},
   "outputs": [
    {
     "data": {
      "text/plain": [
       "{'whiskers': [<matplotlib.lines.Line2D at 0x1fe9f540040>,\n",
       "  <matplotlib.lines.Line2D at 0x1fe9f540310>],\n",
       " 'caps': [<matplotlib.lines.Line2D at 0x1fe9f5405e0>,\n",
       "  <matplotlib.lines.Line2D at 0x1fe9f5408b0>],\n",
       " 'boxes': [<matplotlib.patches.PathPatch at 0x1fe9f530c40>],\n",
       " 'medians': [<matplotlib.lines.Line2D at 0x1fe9f540b80>],\n",
       " 'fliers': [<matplotlib.lines.Line2D at 0x1fe9f540e50>],\n",
       " 'means': []}"
      ]
     },
     "execution_count": 63,
     "metadata": {},
     "output_type": "execute_result"
    },
    {
     "data": {
      "image/png": "[encoded data removed]",
      "text/plain": [
       "<Figure size 800x300 with 1 Axes>"
      ]
     },
     "metadata": {},
     "output_type": "display_data"
    }
   ],
   "source": [
    "# create a box plot \n",
    "import matplotlib.pyplot as plt\n",
    "plt.figure(figsize=(8, 3))\n",
    "plt.boxplot(df.bedroom_count, vert=False, patch_artist=True, boxprops=dict(facecolor='lightblue'))"
   ]
  },
  {
   "cell_type": "code",
   "execution_count": 64,
   "id": "d1f007ee",
   "metadata": {},
   "outputs": [
    {
     "data": {
      "text/plain": [
       "{'whiskers': [<matplotlib.lines.Line2D at 0x1fe9d4f5850>,\n",
       "  <matplotlib.lines.Line2D at 0x1fe9d4f53d0>],\n",
       " 'caps': [<matplotlib.lines.Line2D at 0x1fe9d4f5250>,\n",
       "  <matplotlib.lines.Line2D at 0x1fe9e146b80>],\n",
       " 'boxes': [<matplotlib.patches.PathPatch at 0x1fe9d4f5b50>],\n",
       " 'medians': [<matplotlib.lines.Line2D at 0x1fe9e146eb0>],\n",
       " 'fliers': [<matplotlib.lines.Line2D at 0x1fe9e146a60>],\n",
       " 'means': []}"
      ]
     },
     "execution_count": 64,
     "metadata": {},
     "output_type": "execute_result"
    },
    {
     "data": {
      "image/png": "[encoded data removed]",
      "text/plain": [
       "<Figure size 800x300 with 1 Axes>"
      ]
     },
     "metadata": {},
     "output_type": "display_data"
    }
   ],
   "source": [
    "plt.figure(figsize=(8, 3))\n",
    "plt.boxplot(df.net_sqm, vert=False, patch_artist=True, boxprops=dict(facecolor='lightblue'))"
   ]
  },
  {
   "cell_type": "code",
   "execution_count": 65,
   "id": "528cfa00",
   "metadata": {},
   "outputs": [
    {
     "data": {
      "text/plain": [
       "{'whiskers': [<matplotlib.lines.Line2D at 0x1fe9d5602e0>,\n",
       "  <matplotlib.lines.Line2D at 0x1fe9d5607c0>],\n",
       " 'caps': [<matplotlib.lines.Line2D at 0x1fe99659fd0>,\n",
       "  <matplotlib.lines.Line2D at 0x1fe9aa28910>],\n",
       " 'boxes': [<matplotlib.patches.PathPatch at 0x1fe9d560a90>],\n",
       " 'medians': [<matplotlib.lines.Line2D at 0x1fe9d200040>],\n",
       " 'fliers': [<matplotlib.lines.Line2D at 0x1fe9d2006d0>],\n",
       " 'means': []}"
      ]
     },
     "execution_count": 65,
     "metadata": {},
     "output_type": "execute_result"
    },
    {
     "data": {
      "image/png": "[encoded data removed]",
      "text/plain": [
       "<Figure size 800x300 with 1 Axes>"
      ]
     },
     "metadata": {},
     "output_type": "display_data"
    }
   ],
   "source": [
    "plt.figure(figsize=(8, 3))\n",
    "plt.boxplot(df.center_distance, vert=False, patch_artist=True, boxprops=dict(facecolor='lightblue'))"
   ]
  },
  {
   "cell_type": "code",
   "execution_count": 66,
   "id": "dd80abb9",
   "metadata": {},
   "outputs": [
    {
     "data": {
      "text/plain": [
       "{'whiskers': [<matplotlib.lines.Line2D at 0x1fe9d3dd610>,\n",
       "  <matplotlib.lines.Line2D at 0x1fe9d3ddbe0>],\n",
       " 'caps': [<matplotlib.lines.Line2D at 0x1fe9d3dd640>,\n",
       "  <matplotlib.lines.Line2D at 0x1fe9d3dd3d0>],\n",
       " 'boxes': [<matplotlib.patches.PathPatch at 0x1fe9d3ddfa0>],\n",
       " 'medians': [<matplotlib.lines.Line2D at 0x1fe9d3dd970>],\n",
       " 'fliers': [<matplotlib.lines.Line2D at 0x1fe9d5440a0>],\n",
       " 'means': []}"
      ]
     },
     "execution_count": 66,
     "metadata": {},
     "output_type": "execute_result"
    },
    {
     "data": {
      "image/png": "[encoded data removed]",
      "text/plain": [
       "<Figure size 800x300 with 1 Axes>"
      ]
     },
     "metadata": {},
     "output_type": "display_data"
    }
   ],
   "source": [
    "plt.figure(figsize=(8, 3))\n",
    "plt.boxplot(df.metro_distance, vert=False, patch_artist=True, boxprops=dict(facecolor='lightblue'))"
   ]
  },
  {
   "cell_type": "code",
   "execution_count": 67,
   "id": "9b6ce027",
   "metadata": {},
   "outputs": [
    {
     "data": {
      "text/plain": [
       "{'whiskers': [<matplotlib.lines.Line2D at 0x1fe9d3bd670>,\n",
       "  <matplotlib.lines.Line2D at 0x1fe9defb640>],\n",
       " 'caps': [<matplotlib.lines.Line2D at 0x1fe9defbfa0>,\n",
       "  <matplotlib.lines.Line2D at 0x1fe9defb6d0>],\n",
       " 'boxes': [<matplotlib.patches.PathPatch at 0x1fe9d3bdf70>],\n",
       " 'medians': [<matplotlib.lines.Line2D at 0x1fe9defb820>],\n",
       " 'fliers': [<matplotlib.lines.Line2D at 0x1fe9defbe80>],\n",
       " 'means': []}"
      ]
     },
     "execution_count": 67,
     "metadata": {},
     "output_type": "execute_result"
    },
    {
     "data": {
      "image/png": "[encoded data removed]",
      "text/plain": [
       "<Figure size 800x300 with 1 Axes>"
      ]
     },
     "metadata": {},
     "output_type": "display_data"
    }
   ],
   "source": [
    "plt.figure(figsize=(8, 3))\n",
    "plt.boxplot(df.floor, vert=False, patch_artist=True, boxprops=dict(facecolor='lightblue'))"
   ]
  },
  {
   "cell_type": "code",
   "execution_count": 68,
   "id": "0a37f8fc",
   "metadata": {},
   "outputs": [
    {
     "data": {
      "text/plain": [
       "{'whiskers': [<matplotlib.lines.Line2D at 0x1fe9d7b57f0>,\n",
       "  <matplotlib.lines.Line2D at 0x1fe9d7b58b0>],\n",
       " 'caps': [<matplotlib.lines.Line2D at 0x1fe9d7b52e0>,\n",
       "  <matplotlib.lines.Line2D at 0x1fe9d7b5a30>],\n",
       " 'boxes': [<matplotlib.patches.PathPatch at 0x1fe9d7b5880>],\n",
       " 'medians': [<matplotlib.lines.Line2D at 0x1fe9d4d4310>],\n",
       " 'fliers': [<matplotlib.lines.Line2D at 0x1fe9d4d4730>],\n",
       " 'means': []}"
      ]
     },
     "execution_count": 68,
     "metadata": {},
     "output_type": "execute_result"
    },
    {
     "data": {
      "image/png": "[encoded data removed]",
      "text/plain": [
       "<Figure size 800x300 with 1 Axes>"
      ]
     },
     "metadata": {},
     "output_type": "display_data"
    }
   ],
   "source": [
    "plt.figure(figsize=(8, 3))\n",
    "plt.boxplot(df.age, vert=False, patch_artist=True, boxprops=dict(facecolor='lightblue'))"
   ]
  },
  {
   "cell_type": "code",
   "execution_count": 69,
   "id": "4929027d",
   "metadata": {},
   "outputs": [
    {
     "data": {
      "text/plain": [
       "{'whiskers': [<matplotlib.lines.Line2D at 0x1fe9e2df0a0>,\n",
       "  <matplotlib.lines.Line2D at 0x1fe9d7e1fa0>],\n",
       " 'caps': [<matplotlib.lines.Line2D at 0x1fe9d7e1130>,\n",
       "  <matplotlib.lines.Line2D at 0x1fe9d7e1c70>],\n",
       " 'boxes': [<matplotlib.patches.PathPatch at 0x1fe9e2df3a0>],\n",
       " 'medians': [<matplotlib.lines.Line2D at 0x1fe9d7e19d0>],\n",
       " 'fliers': [<matplotlib.lines.Line2D at 0x1fe9d7e1430>],\n",
       " 'means': []}"
      ]
     },
     "execution_count": 69,
     "metadata": {},
     "output_type": "execute_result"
    },
    {
     "data": {
      "image/png": "[encoded data removed]",
      "text/plain": [
       "<Figure size 800x300 with 1 Axes>"
      ]
     },
     "metadata": {},
     "output_type": "display_data"
    }
   ],
   "source": [
    "plt.figure(figsize=(8, 3))\n",
    "plt.boxplot(df.price, vert=False, patch_artist=True, boxprops=dict(facecolor='lightblue'))"
   ]
  },
  {
   "cell_type": "code",
   "execution_count": 38,
   "id": "4832270d",
   "metadata": {},
   "outputs": [
    {
     "name": "stdout",
     "output_type": "stream",
     "text": [
      "299.1079885642868\n",
      "2931.85375\n",
      "286.967323748651\n",
      "105550.31058035088\n"
     ]
    }
   ],
   "source": [
    "\n",
    "# import seaborn as sns\n",
    "# k = 0\n",
    "# j = 0\n",
    "# def plotting():\n",
    "\n",
    "#     fig, axis = plt.subplots(2, 4)\n",
    "#     for i in range(df.shape[1]):\n",
    "#         if i == 4:\n",
    "            \n",
    "#             global k, j\n",
    "            \n",
    "#             j = 1\n",
    "#             k = 0\n",
    "# #         axis[j, k].boxplot(df[i])\n",
    "    \n",
    "#         k+=1\n",
    "# #         print(j, k, df.columns[i])\n",
    "#         axis[j,k].boxplot(df[df.columns[i]])\n",
    "# #         axis.set_xticklabels(i)\n",
    "# plotting()\n",
    "dft = df\n",
    "# dft.head()\n",
    "for i in dft.columns:\n",
    "    if dft[i].dtype == \"float64\":\n",
    "        Q1 = np.percentile(dft[i], 25)\n",
    "        Q3 = np.percentile(dft[i], 75)\n",
    "        ue = Q3 + (1.5 * (Q3 - Q1))\n",
    "        dft[dft[i]>ue]\n",
    "        print(ue)"
   ]
  },
  {
   "cell_type": "code",
   "execution_count": 4,
   "id": "7bbcc081",
   "metadata": {},
   "outputs": [],
   "source": [
    "# import sklearn\n",
    "from sklearn.linear_model import LinearRegression\n",
    "from sklearn.model_selection import train_test_split\n",
    "from sklearn.metrics import mean_squared_error"
   ]
  },
  {
   "cell_type": "code",
   "execution_count": 22,
   "id": "cb418300",
   "metadata": {},
   "outputs": [
    {
     "data": {
      "text/plain": [
       "bedroom_count      0\n",
       "net_sqm            0\n",
       "center_distance    0\n",
       "metro_distance     0\n",
       "floor              0\n",
       "age                0\n",
       "price              0\n",
       "dtype: int64"
      ]
     },
     "execution_count": 22,
     "metadata": {},
     "output_type": "execute_result"
    }
   ],
   "source": [
    "# check for null values in the dataframe\n",
    "df.isna().sum()"
   ]
  },
  {
   "cell_type": "code",
   "execution_count": 23,
   "id": "9348decf",
   "metadata": {},
   "outputs": [
    {
     "data": {
      "text/html": [
       "<div>\n",
       "<style scoped>\n",
       "    .dataframe tbody tr th:only-of-type {\n",
       "        vertical-align: middle;\n",
       "    }\n",
       "\n",
       "    .dataframe tbody tr th {\n",
       "        vertical-align: top;\n",
       "    }\n",
       "\n",
       "    .dataframe thead th {\n",
       "        text-align: right;\n",
       "    }\n",
       "</style>\n",
       "<table border=\"1\" class=\"dataframe\">\n",
       "  <thead>\n",
       "    <tr style=\"text-align: right;\">\n",
       "      <th></th>\n",
       "      <th>bedroom_count</th>\n",
       "      <th>net_sqm</th>\n",
       "      <th>center_distance</th>\n",
       "      <th>metro_distance</th>\n",
       "      <th>floor</th>\n",
       "      <th>age</th>\n",
       "    </tr>\n",
       "  </thead>\n",
       "  <tbody>\n",
       "    <tr>\n",
       "      <th>0</th>\n",
       "      <td>1</td>\n",
       "      <td>26.184098</td>\n",
       "      <td>1286.68</td>\n",
       "      <td>204.003817</td>\n",
       "      <td>22</td>\n",
       "      <td>67</td>\n",
       "    </tr>\n",
       "    <tr>\n",
       "      <th>1</th>\n",
       "      <td>1</td>\n",
       "      <td>34.866901</td>\n",
       "      <td>1855.25</td>\n",
       "      <td>186.980360</td>\n",
       "      <td>8</td>\n",
       "      <td>30</td>\n",
       "    </tr>\n",
       "    <tr>\n",
       "      <th>2</th>\n",
       "      <td>1</td>\n",
       "      <td>36.980709</td>\n",
       "      <td>692.09</td>\n",
       "      <td>111.224999</td>\n",
       "      <td>24</td>\n",
       "      <td>24</td>\n",
       "    </tr>\n",
       "    <tr>\n",
       "      <th>3</th>\n",
       "      <td>1</td>\n",
       "      <td>17.445723</td>\n",
       "      <td>1399.49</td>\n",
       "      <td>237.998760</td>\n",
       "      <td>1</td>\n",
       "      <td>66</td>\n",
       "    </tr>\n",
       "    <tr>\n",
       "      <th>4</th>\n",
       "      <td>1</td>\n",
       "      <td>52.587646</td>\n",
       "      <td>84.65</td>\n",
       "      <td>100.996400</td>\n",
       "      <td>20</td>\n",
       "      <td>3</td>\n",
       "    </tr>\n",
       "  </tbody>\n",
       "</table>\n",
       "</div>"
      ],
      "text/plain": [
       "   bedroom_count    net_sqm  center_distance  metro_distance  floor  age\n",
       "0              1  26.184098          1286.68      204.003817     22   67\n",
       "1              1  34.866901          1855.25      186.980360      8   30\n",
       "2              1  36.980709           692.09      111.224999     24   24\n",
       "3              1  17.445723          1399.49      237.998760      1   66\n",
       "4              1  52.587646            84.65      100.996400     20    3"
      ]
     },
     "execution_count": 23,
     "metadata": {},
     "output_type": "execute_result"
    }
   ],
   "source": [
    "# split the dataset into train and test fit the model\n",
    "# df.head()\n",
    "y = df[[\"price\"]]\n",
    "# y.head()\n",
    "x = df.drop(columns = [\"price\"])\n",
    "x.head()"
   ]
  },
  {
   "cell_type": "code",
   "execution_count": 24,
   "id": "07bf447c",
   "metadata": {},
   "outputs": [],
   "source": [
    "# splitting the data\n",
    "X_train, X_test, y_train, y_test = train_test_split(x, y, test_size = 0.2, random_state = 10)"
   ]
  },
  {
   "cell_type": "code",
   "execution_count": 25,
   "id": "eb1f6146",
   "metadata": {},
   "outputs": [
    {
     "data": {
      "text/plain": [
       "0.720980793023431"
      ]
     },
     "execution_count": 25,
     "metadata": {},
     "output_type": "execute_result"
    }
   ],
   "source": [
    "# call the model\n",
    "m1 = LinearRegression()\n",
    "m1.fit(X_train, y_train)\n",
    "m1.score(X_train, y_train)"
   ]
  },
  {
   "cell_type": "code",
   "execution_count": 26,
   "id": "379781aa",
   "metadata": {},
   "outputs": [
    {
     "data": {
      "text/plain": [
       "0.7103667388975128"
      ]
     },
     "execution_count": 26,
     "metadata": {},
     "output_type": "execute_result"
    }
   ],
   "source": [
    "# predict the value\n",
    "y_pred = m1.predict(X_test)\n",
    "mse = mean_squared_error(y_test, y_pred)\n",
    "m1.score(X_test, y_test)"
   ]
  },
  {
   "cell_type": "code",
   "execution_count": 27,
   "id": "682b06dd",
   "metadata": {},
   "outputs": [
    {
     "data": {
      "text/plain": [
       "4546923.286132161"
      ]
     },
     "execution_count": 27,
     "metadata": {},
     "output_type": "execute_result"
    }
   ],
   "source": [
    "mse"
   ]
  },
  {
   "cell_type": "code",
   "execution_count": 44,
   "id": "d8b6dc1c",
   "metadata": {},
   "outputs": [
    {
     "data": {
      "text/plain": [
       "(4015, 7)"
      ]
     },
     "execution_count": 44,
     "metadata": {},
     "output_type": "execute_result"
    }
   ],
   "source": [
    "# remove outliers\n",
    "for i in dft.columns:\n",
    "    if dft[i].dtype == \"float64\":\n",
    "        Q1 = np.percentile(dft[i], 25)\n",
    "        Q3 = np.percentile(dft[i], 75)\n",
    "        ue = Q3 + (1.5 * (Q3 - Q1))\n",
    "#         print(dft[dft[i]>ue].head(1))\n",
    "        dft = dft.drop(dft[dft[i]>ue].index)\n",
    "dft.shape"
   ]
  },
  {
   "cell_type": "code",
   "execution_count": 40,
   "id": "8c6d298e",
   "metadata": {},
   "outputs": [
    {
     "data": {
      "text/html": [
       "<div>\n",
       "<style scoped>\n",
       "    .dataframe tbody tr th:only-of-type {\n",
       "        vertical-align: middle;\n",
       "    }\n",
       "\n",
       "    .dataframe tbody tr th {\n",
       "        vertical-align: top;\n",
       "    }\n",
       "\n",
       "    .dataframe thead th {\n",
       "        text-align: right;\n",
       "    }\n",
       "</style>\n",
       "<table border=\"1\" class=\"dataframe\">\n",
       "  <thead>\n",
       "    <tr style=\"text-align: right;\">\n",
       "      <th></th>\n",
       "      <th>bedroom_count</th>\n",
       "      <th>net_sqm</th>\n",
       "      <th>center_distance</th>\n",
       "      <th>metro_distance</th>\n",
       "      <th>floor</th>\n",
       "      <th>age</th>\n",
       "      <th>price</th>\n",
       "    </tr>\n",
       "  </thead>\n",
       "  <tbody>\n",
       "    <tr>\n",
       "      <th>2100</th>\n",
       "      <td>4</td>\n",
       "      <td>49.548624</td>\n",
       "      <td>1054.87</td>\n",
       "      <td>75.309937</td>\n",
       "      <td>13</td>\n",
       "      <td>63</td>\n",
       "      <td>92537.505815</td>\n",
       "    </tr>\n",
       "    <tr>\n",
       "      <th>2101</th>\n",
       "      <td>4</td>\n",
       "      <td>151.132300</td>\n",
       "      <td>1991.84</td>\n",
       "      <td>124.654703</td>\n",
       "      <td>8</td>\n",
       "      <td>96</td>\n",
       "      <td>91118.806621</td>\n",
       "    </tr>\n",
       "    <tr>\n",
       "      <th>2102</th>\n",
       "      <td>4</td>\n",
       "      <td>164.200779</td>\n",
       "      <td>22.00</td>\n",
       "      <td>36.912512</td>\n",
       "      <td>13</td>\n",
       "      <td>57</td>\n",
       "      <td>103208.320400</td>\n",
       "    </tr>\n",
       "    <tr>\n",
       "      <th>2103</th>\n",
       "      <td>4</td>\n",
       "      <td>130.420119</td>\n",
       "      <td>1300.81</td>\n",
       "      <td>143.154161</td>\n",
       "      <td>10</td>\n",
       "      <td>14</td>\n",
       "      <td>97387.715418</td>\n",
       "    </tr>\n",
       "    <tr>\n",
       "      <th>2104</th>\n",
       "      <td>4</td>\n",
       "      <td>61.033585</td>\n",
       "      <td>733.15</td>\n",
       "      <td>90.828157</td>\n",
       "      <td>18</td>\n",
       "      <td>2</td>\n",
       "      <td>97590.356760</td>\n",
       "    </tr>\n",
       "  </tbody>\n",
       "</table>\n",
       "</div>"
      ],
      "text/plain": [
       "      bedroom_count     net_sqm  center_distance  metro_distance  floor  age  \\\n",
       "2100              4   49.548624          1054.87       75.309937     13   63   \n",
       "2101              4  151.132300          1991.84      124.654703      8   96   \n",
       "2102              4  164.200779            22.00       36.912512     13   57   \n",
       "2103              4  130.420119          1300.81      143.154161     10   14   \n",
       "2104              4   61.033585           733.15       90.828157     18    2   \n",
       "\n",
       "              price  \n",
       "2100   92537.505815  \n",
       "2101   91118.806621  \n",
       "2102  103208.320400  \n",
       "2103   97387.715418  \n",
       "2104   97590.356760  "
      ]
     },
     "execution_count": 40,
     "metadata": {},
     "output_type": "execute_result"
    }
   ],
   "source": [
    "df[df[\"bedroom_count\"]>3].head()"
   ]
  },
  {
   "cell_type": "code",
   "execution_count": 45,
   "id": "ce8f1058",
   "metadata": {},
   "outputs": [
    {
     "data": {
      "text/html": [
       "<div>\n",
       "<style scoped>\n",
       "    .dataframe tbody tr th:only-of-type {\n",
       "        vertical-align: middle;\n",
       "    }\n",
       "\n",
       "    .dataframe tbody tr th {\n",
       "        vertical-align: top;\n",
       "    }\n",
       "\n",
       "    .dataframe thead th {\n",
       "        text-align: right;\n",
       "    }\n",
       "</style>\n",
       "<table border=\"1\" class=\"dataframe\">\n",
       "  <thead>\n",
       "    <tr style=\"text-align: right;\">\n",
       "      <th></th>\n",
       "      <th>bedroom_count</th>\n",
       "      <th>net_sqm</th>\n",
       "      <th>center_distance</th>\n",
       "      <th>metro_distance</th>\n",
       "      <th>floor</th>\n",
       "      <th>age</th>\n",
       "      <th>price</th>\n",
       "    </tr>\n",
       "  </thead>\n",
       "  <tbody>\n",
       "    <tr>\n",
       "      <th>0</th>\n",
       "      <td>1</td>\n",
       "      <td>26.184098</td>\n",
       "      <td>1286.68</td>\n",
       "      <td>204.003817</td>\n",
       "      <td>22</td>\n",
       "      <td>67</td>\n",
       "      <td>96004.804557</td>\n",
       "    </tr>\n",
       "    <tr>\n",
       "      <th>1</th>\n",
       "      <td>1</td>\n",
       "      <td>34.866901</td>\n",
       "      <td>1855.25</td>\n",
       "      <td>186.980360</td>\n",
       "      <td>8</td>\n",
       "      <td>30</td>\n",
       "      <td>92473.722570</td>\n",
       "    </tr>\n",
       "    <tr>\n",
       "      <th>2</th>\n",
       "      <td>1</td>\n",
       "      <td>36.980709</td>\n",
       "      <td>692.09</td>\n",
       "      <td>111.224999</td>\n",
       "      <td>24</td>\n",
       "      <td>24</td>\n",
       "      <td>98112.519940</td>\n",
       "    </tr>\n",
       "    <tr>\n",
       "      <th>3</th>\n",
       "      <td>1</td>\n",
       "      <td>17.445723</td>\n",
       "      <td>1399.49</td>\n",
       "      <td>237.998760</td>\n",
       "      <td>1</td>\n",
       "      <td>66</td>\n",
       "      <td>92118.326874</td>\n",
       "    </tr>\n",
       "    <tr>\n",
       "      <th>4</th>\n",
       "      <td>1</td>\n",
       "      <td>52.587646</td>\n",
       "      <td>84.65</td>\n",
       "      <td>100.996400</td>\n",
       "      <td>20</td>\n",
       "      <td>3</td>\n",
       "      <td>98976.653176</td>\n",
       "    </tr>\n",
       "  </tbody>\n",
       "</table>\n",
       "</div>"
      ],
      "text/plain": [
       "   bedroom_count    net_sqm  center_distance  metro_distance  floor  age  \\\n",
       "0              1  26.184098          1286.68      204.003817     22   67   \n",
       "1              1  34.866901          1855.25      186.980360      8   30   \n",
       "2              1  36.980709           692.09      111.224999     24   24   \n",
       "3              1  17.445723          1399.49      237.998760      1   66   \n",
       "4              1  52.587646            84.65      100.996400     20    3   \n",
       "\n",
       "          price  \n",
       "0  96004.804557  \n",
       "1  92473.722570  \n",
       "2  98112.519940  \n",
       "3  92118.326874  \n",
       "4  98976.653176  "
      ]
     },
     "execution_count": 45,
     "metadata": {},
     "output_type": "execute_result"
    }
   ],
   "source": [
    "dft.head()"
   ]
  },
  {
   "cell_type": "code",
   "execution_count": 47,
   "id": "02b893d3",
   "metadata": {},
   "outputs": [
    {
     "data": {
      "text/html": [
       "<div>\n",
       "<style scoped>\n",
       "    .dataframe tbody tr th:only-of-type {\n",
       "        vertical-align: middle;\n",
       "    }\n",
       "\n",
       "    .dataframe tbody tr th {\n",
       "        vertical-align: top;\n",
       "    }\n",
       "\n",
       "    .dataframe thead th {\n",
       "        text-align: right;\n",
       "    }\n",
       "</style>\n",
       "<table border=\"1\" class=\"dataframe\">\n",
       "  <thead>\n",
       "    <tr style=\"text-align: right;\">\n",
       "      <th></th>\n",
       "      <th>bedroom_count</th>\n",
       "      <th>net_sqm</th>\n",
       "      <th>center_distance</th>\n",
       "      <th>metro_distance</th>\n",
       "      <th>floor</th>\n",
       "      <th>age</th>\n",
       "    </tr>\n",
       "  </thead>\n",
       "  <tbody>\n",
       "    <tr>\n",
       "      <th>0</th>\n",
       "      <td>1</td>\n",
       "      <td>26.184098</td>\n",
       "      <td>1286.68</td>\n",
       "      <td>204.003817</td>\n",
       "      <td>22</td>\n",
       "      <td>67</td>\n",
       "    </tr>\n",
       "    <tr>\n",
       "      <th>1</th>\n",
       "      <td>1</td>\n",
       "      <td>34.866901</td>\n",
       "      <td>1855.25</td>\n",
       "      <td>186.980360</td>\n",
       "      <td>8</td>\n",
       "      <td>30</td>\n",
       "    </tr>\n",
       "    <tr>\n",
       "      <th>2</th>\n",
       "      <td>1</td>\n",
       "      <td>36.980709</td>\n",
       "      <td>692.09</td>\n",
       "      <td>111.224999</td>\n",
       "      <td>24</td>\n",
       "      <td>24</td>\n",
       "    </tr>\n",
       "    <tr>\n",
       "      <th>3</th>\n",
       "      <td>1</td>\n",
       "      <td>17.445723</td>\n",
       "      <td>1399.49</td>\n",
       "      <td>237.998760</td>\n",
       "      <td>1</td>\n",
       "      <td>66</td>\n",
       "    </tr>\n",
       "    <tr>\n",
       "      <th>4</th>\n",
       "      <td>1</td>\n",
       "      <td>52.587646</td>\n",
       "      <td>84.65</td>\n",
       "      <td>100.996400</td>\n",
       "      <td>20</td>\n",
       "      <td>3</td>\n",
       "    </tr>\n",
       "  </tbody>\n",
       "</table>\n",
       "</div>"
      ],
      "text/plain": [
       "   bedroom_count    net_sqm  center_distance  metro_distance  floor  age\n",
       "0              1  26.184098          1286.68      204.003817     22   67\n",
       "1              1  34.866901          1855.25      186.980360      8   30\n",
       "2              1  36.980709           692.09      111.224999     24   24\n",
       "3              1  17.445723          1399.49      237.998760      1   66\n",
       "4              1  52.587646            84.65      100.996400     20    3"
      ]
     },
     "execution_count": 47,
     "metadata": {},
     "output_type": "execute_result"
    }
   ],
   "source": [
    "y1 = dft[[\"price\"]]\n",
    "# y.head()\n",
    "x1 = dft.drop(columns = [\"price\"])\n",
    "x1.head()"
   ]
  },
  {
   "cell_type": "code",
   "execution_count": 48,
   "id": "94b0b2ad",
   "metadata": {},
   "outputs": [],
   "source": [
    "X1_train, X1_test, y1_train, y1_test = train_test_split(x1, y1, test_size = 0.2, random_state = 10)"
   ]
  },
  {
   "cell_type": "code",
   "execution_count": 49,
   "id": "08012ef8",
   "metadata": {},
   "outputs": [
    {
     "data": {
      "text/plain": [
       "0.6732701186397978"
      ]
     },
     "execution_count": 49,
     "metadata": {},
     "output_type": "execute_result"
    }
   ],
   "source": [
    "m1.fit(X1_train, y1_train)\n",
    "m1.score(X1_train, y1_train)"
   ]
  },
  {
   "cell_type": "code",
   "execution_count": 50,
   "id": "a0795093",
   "metadata": {},
   "outputs": [
    {
     "data": {
      "text/plain": [
       "0.7086499825858902"
      ]
     },
     "execution_count": 50,
     "metadata": {},
     "output_type": "execute_result"
    }
   ],
   "source": [
    "y1_pred = m1.predict(X1_test)\n",
    "mse1 = mean_squared_error(y1_test, y1_pred)\n",
    "m1.score(X1_test, y1_test)"
   ]
  },
  {
   "cell_type": "code",
   "execution_count": 51,
   "id": "fb701091",
   "metadata": {},
   "outputs": [
    {
     "data": {
      "text/plain": [
       "3321256.339551434"
      ]
     },
     "execution_count": 51,
     "metadata": {},
     "output_type": "execute_result"
    }
   ],
   "source": [
    "mse1"
   ]
  },
  {
   "cell_type": "code",
   "execution_count": 54,
   "id": "e2db79fd",
   "metadata": {},
   "outputs": [
    {
     "data": {
      "text/plain": [
       "1225666.9465807267"
      ]
     },
     "execution_count": 54,
     "metadata": {},
     "output_type": "execute_result"
    }
   ],
   "source": [
    "dif = mse-mse1\n",
    "dif"
   ]
  },
  {
   "cell_type": "markdown",
   "id": "8eb7940c",
   "metadata": {},
   "source": [
    "# Removing outliers reduced the MSE but model performance is still lower than with compare to the performance with outliers it might be because of the reduced data. For the better fit we need to increase the data size"
   ]
  },
  {
   "cell_type": "code",
   "execution_count": 1,
   "id": "2652755b",
   "metadata": {},
   "outputs": [],
   "source": [
    "# check multicollinearity with VIF\n",
    "from statsmodels.stats.outliers_influence import variance_inflation_factor"
   ]
  },
  {
   "cell_type": "code",
   "execution_count": 9,
   "id": "da5ccf84",
   "metadata": {},
   "outputs": [
    {
     "data": {
      "text/html": [
       "<div>\n",
       "<style scoped>\n",
       "    .dataframe tbody tr th:only-of-type {\n",
       "        vertical-align: middle;\n",
       "    }\n",
       "\n",
       "    .dataframe tbody tr th {\n",
       "        vertical-align: top;\n",
       "    }\n",
       "\n",
       "    .dataframe thead th {\n",
       "        text-align: right;\n",
       "    }\n",
       "</style>\n",
       "<table border=\"1\" class=\"dataframe\">\n",
       "  <thead>\n",
       "    <tr style=\"text-align: right;\">\n",
       "      <th></th>\n",
       "      <th>bedroom_count</th>\n",
       "      <th>net_sqm</th>\n",
       "      <th>center_distance</th>\n",
       "      <th>metro_distance</th>\n",
       "      <th>floor</th>\n",
       "      <th>age</th>\n",
       "      <th>price</th>\n",
       "    </tr>\n",
       "  </thead>\n",
       "  <tbody>\n",
       "    <tr>\n",
       "      <th>0</th>\n",
       "      <td>1</td>\n",
       "      <td>26.184098</td>\n",
       "      <td>1286.68</td>\n",
       "      <td>204.003817</td>\n",
       "      <td>22</td>\n",
       "      <td>67</td>\n",
       "      <td>96004.804557</td>\n",
       "    </tr>\n",
       "    <tr>\n",
       "      <th>1</th>\n",
       "      <td>1</td>\n",
       "      <td>34.866901</td>\n",
       "      <td>1855.25</td>\n",
       "      <td>186.980360</td>\n",
       "      <td>8</td>\n",
       "      <td>30</td>\n",
       "      <td>92473.722570</td>\n",
       "    </tr>\n",
       "    <tr>\n",
       "      <th>2</th>\n",
       "      <td>1</td>\n",
       "      <td>36.980709</td>\n",
       "      <td>692.09</td>\n",
       "      <td>111.224999</td>\n",
       "      <td>24</td>\n",
       "      <td>24</td>\n",
       "      <td>98112.519940</td>\n",
       "    </tr>\n",
       "    <tr>\n",
       "      <th>3</th>\n",
       "      <td>1</td>\n",
       "      <td>17.445723</td>\n",
       "      <td>1399.49</td>\n",
       "      <td>237.998760</td>\n",
       "      <td>1</td>\n",
       "      <td>66</td>\n",
       "      <td>92118.326874</td>\n",
       "    </tr>\n",
       "    <tr>\n",
       "      <th>4</th>\n",
       "      <td>1</td>\n",
       "      <td>52.587646</td>\n",
       "      <td>84.65</td>\n",
       "      <td>100.996400</td>\n",
       "      <td>20</td>\n",
       "      <td>3</td>\n",
       "      <td>98976.653176</td>\n",
       "    </tr>\n",
       "  </tbody>\n",
       "</table>\n",
       "</div>"
      ],
      "text/plain": [
       "   bedroom_count    net_sqm  center_distance  metro_distance  floor  age  \\\n",
       "0              1  26.184098          1286.68      204.003817     22   67   \n",
       "1              1  34.866901          1855.25      186.980360      8   30   \n",
       "2              1  36.980709           692.09      111.224999     24   24   \n",
       "3              1  17.445723          1399.49      237.998760      1   66   \n",
       "4              1  52.587646            84.65      100.996400     20    3   \n",
       "\n",
       "          price  \n",
       "0  96004.804557  \n",
       "1  92473.722570  \n",
       "2  98112.519940  \n",
       "3  92118.326874  \n",
       "4  98976.653176  "
      ]
     },
     "execution_count": 9,
     "metadata": {},
     "output_type": "execute_result"
    }
   ],
   "source": [
    "df.head()"
   ]
  },
  {
   "cell_type": "code",
   "execution_count": 10,
   "id": "95535206",
   "metadata": {},
   "outputs": [],
   "source": [
    "dfs = df"
   ]
  },
  {
   "cell_type": "code",
   "execution_count": 12,
   "id": "01713196",
   "metadata": {},
   "outputs": [
    {
     "data": {
      "text/html": [
       "<div>\n",
       "<style scoped>\n",
       "    .dataframe tbody tr th:only-of-type {\n",
       "        vertical-align: middle;\n",
       "    }\n",
       "\n",
       "    .dataframe tbody tr th {\n",
       "        vertical-align: top;\n",
       "    }\n",
       "\n",
       "    .dataframe thead th {\n",
       "        text-align: right;\n",
       "    }\n",
       "</style>\n",
       "<table border=\"1\" class=\"dataframe\">\n",
       "  <thead>\n",
       "    <tr style=\"text-align: right;\">\n",
       "      <th></th>\n",
       "      <th>bedroom_count</th>\n",
       "      <th>net_sqm</th>\n",
       "      <th>center_distance</th>\n",
       "      <th>metro_distance</th>\n",
       "      <th>floor</th>\n",
       "      <th>age</th>\n",
       "    </tr>\n",
       "  </thead>\n",
       "  <tbody>\n",
       "    <tr>\n",
       "      <th>0</th>\n",
       "      <td>1</td>\n",
       "      <td>26.184098</td>\n",
       "      <td>1286.68</td>\n",
       "      <td>204.003817</td>\n",
       "      <td>22</td>\n",
       "      <td>67</td>\n",
       "    </tr>\n",
       "    <tr>\n",
       "      <th>1</th>\n",
       "      <td>1</td>\n",
       "      <td>34.866901</td>\n",
       "      <td>1855.25</td>\n",
       "      <td>186.980360</td>\n",
       "      <td>8</td>\n",
       "      <td>30</td>\n",
       "    </tr>\n",
       "    <tr>\n",
       "      <th>2</th>\n",
       "      <td>1</td>\n",
       "      <td>36.980709</td>\n",
       "      <td>692.09</td>\n",
       "      <td>111.224999</td>\n",
       "      <td>24</td>\n",
       "      <td>24</td>\n",
       "    </tr>\n",
       "    <tr>\n",
       "      <th>3</th>\n",
       "      <td>1</td>\n",
       "      <td>17.445723</td>\n",
       "      <td>1399.49</td>\n",
       "      <td>237.998760</td>\n",
       "      <td>1</td>\n",
       "      <td>66</td>\n",
       "    </tr>\n",
       "    <tr>\n",
       "      <th>4</th>\n",
       "      <td>1</td>\n",
       "      <td>52.587646</td>\n",
       "      <td>84.65</td>\n",
       "      <td>100.996400</td>\n",
       "      <td>20</td>\n",
       "      <td>3</td>\n",
       "    </tr>\n",
       "  </tbody>\n",
       "</table>\n",
       "</div>"
      ],
      "text/plain": [
       "   bedroom_count    net_sqm  center_distance  metro_distance  floor  age\n",
       "0              1  26.184098          1286.68      204.003817     22   67\n",
       "1              1  34.866901          1855.25      186.980360      8   30\n",
       "2              1  36.980709           692.09      111.224999     24   24\n",
       "3              1  17.445723          1399.49      237.998760      1   66\n",
       "4              1  52.587646            84.65      100.996400     20    3"
      ]
     },
     "execution_count": 12,
     "metadata": {},
     "output_type": "execute_result"
    }
   ],
   "source": [
    "dfs = dfs.drop(columns = [\"price\"])\n",
    "dfs.head()"
   ]
  },
  {
   "cell_type": "code",
   "execution_count": 13,
   "id": "861b64c5",
   "metadata": {},
   "outputs": [],
   "source": [
    "dfs[\"Constant\"] = 1\n",
    "vif_data = pd.DataFrame()\n",
    "vif_data[\"Variable\"] = dfs.columns\n",
    "vif_data[\"VIF\"] = [variance_inflation_factor(df.values, i) for i in range(dfs.shape[1])]"
   ]
  },
  {
   "cell_type": "code",
   "execution_count": 14,
   "id": "5083bdff",
   "metadata": {},
   "outputs": [
    {
     "data": {
      "text/html": [
       "<div>\n",
       "<style scoped>\n",
       "    .dataframe tbody tr th:only-of-type {\n",
       "        vertical-align: middle;\n",
       "    }\n",
       "\n",
       "    .dataframe tbody tr th {\n",
       "        vertical-align: top;\n",
       "    }\n",
       "\n",
       "    .dataframe thead th {\n",
       "        text-align: right;\n",
       "    }\n",
       "</style>\n",
       "<table border=\"1\" class=\"dataframe\">\n",
       "  <thead>\n",
       "    <tr style=\"text-align: right;\">\n",
       "      <th></th>\n",
       "      <th>Variable</th>\n",
       "      <th>VIF</th>\n",
       "    </tr>\n",
       "  </thead>\n",
       "  <tbody>\n",
       "    <tr>\n",
       "      <th>0</th>\n",
       "      <td>bedroom_count</td>\n",
       "      <td>8.976835</td>\n",
       "    </tr>\n",
       "    <tr>\n",
       "      <th>1</th>\n",
       "      <td>net_sqm</td>\n",
       "      <td>5.974826</td>\n",
       "    </tr>\n",
       "    <tr>\n",
       "      <th>2</th>\n",
       "      <td>center_distance</td>\n",
       "      <td>7.092786</td>\n",
       "    </tr>\n",
       "    <tr>\n",
       "      <th>3</th>\n",
       "      <td>metro_distance</td>\n",
       "      <td>6.121080</td>\n",
       "    </tr>\n",
       "    <tr>\n",
       "      <th>4</th>\n",
       "      <td>floor</td>\n",
       "      <td>3.726285</td>\n",
       "    </tr>\n",
       "    <tr>\n",
       "      <th>5</th>\n",
       "      <td>age</td>\n",
       "      <td>3.991293</td>\n",
       "    </tr>\n",
       "    <tr>\n",
       "      <th>6</th>\n",
       "      <td>Constant</td>\n",
       "      <td>17.122809</td>\n",
       "    </tr>\n",
       "  </tbody>\n",
       "</table>\n",
       "</div>"
      ],
      "text/plain": [
       "          Variable        VIF\n",
       "0    bedroom_count   8.976835\n",
       "1          net_sqm   5.974826\n",
       "2  center_distance   7.092786\n",
       "3   metro_distance   6.121080\n",
       "4            floor   3.726285\n",
       "5              age   3.991293\n",
       "6         Constant  17.122809"
      ]
     },
     "execution_count": 14,
     "metadata": {},
     "output_type": "execute_result"
    }
   ],
   "source": [
    "vif_data"
   ]
  },
  {
   "cell_type": "code",
   "execution_count": 15,
   "id": "205fa6ce",
   "metadata": {},
   "outputs": [],
   "source": [
    "# creating correlation heatmap\n",
    "import seaborn as sns\n",
    "import matplotlib.pyplot as plt"
   ]
  },
  {
   "cell_type": "code",
   "execution_count": 16,
   "id": "9d8ae400",
   "metadata": {},
   "outputs": [],
   "source": [
    "correlation_matrix = dfs.corr()"
   ]
  },
  {
   "cell_type": "code",
   "execution_count": 18,
   "id": "96ef7844",
   "metadata": {},
   "outputs": [
    {
     "data": {
      "image/png": "[encoded data removed]",
      "text/plain": [
       "<Figure size 1000x800 with 2 Axes>"
      ]
     },
     "metadata": {},
     "output_type": "display_data"
    }
   ],
   "source": [
    "plt.figure(figsize=(10, 8))  # Adjust figure size if needed\n",
    "sns.heatmap(correlation_matrix, annot=True, cmap='coolwarm', fmt=\".2f\")\n",
    "plt.title('Correlation Heatmap')\n",
    "plt.show()"
   ]
  },
  {
   "cell_type": "code",
   "execution_count": 20,
   "id": "cf534fde",
   "metadata": {},
   "outputs": [],
   "source": [
    "# do feature engineering to reduce the effect from underfitting and multicollinearity\n",
    "from sklearn.linear_model import LinearRegression\n",
    "from sklearn.model_selection import train_test_split\n",
    "from sklearn.metrics import mean_squared_error\n",
    "from sklearn.preprocessing import PolynomialFeatures"
   ]
  },
  {
   "cell_type": "code",
   "execution_count": 21,
   "id": "3b774914",
   "metadata": {},
   "outputs": [
    {
     "data": {
      "text/html": [
       "<div>\n",
       "<style scoped>\n",
       "    .dataframe tbody tr th:only-of-type {\n",
       "        vertical-align: middle;\n",
       "    }\n",
       "\n",
       "    .dataframe tbody tr th {\n",
       "        vertical-align: top;\n",
       "    }\n",
       "\n",
       "    .dataframe thead th {\n",
       "        text-align: right;\n",
       "    }\n",
       "</style>\n",
       "<table border=\"1\" class=\"dataframe\">\n",
       "  <thead>\n",
       "    <tr style=\"text-align: right;\">\n",
       "      <th></th>\n",
       "      <th>price</th>\n",
       "    </tr>\n",
       "  </thead>\n",
       "  <tbody>\n",
       "    <tr>\n",
       "      <th>0</th>\n",
       "      <td>96004.804557</td>\n",
       "    </tr>\n",
       "    <tr>\n",
       "      <th>1</th>\n",
       "      <td>92473.722570</td>\n",
       "    </tr>\n",
       "    <tr>\n",
       "      <th>2</th>\n",
       "      <td>98112.519940</td>\n",
       "    </tr>\n",
       "    <tr>\n",
       "      <th>3</th>\n",
       "      <td>92118.326874</td>\n",
       "    </tr>\n",
       "    <tr>\n",
       "      <th>4</th>\n",
       "      <td>98976.653176</td>\n",
       "    </tr>\n",
       "  </tbody>\n",
       "</table>\n",
       "</div>"
      ],
      "text/plain": [
       "          price\n",
       "0  96004.804557\n",
       "1  92473.722570\n",
       "2  98112.519940\n",
       "3  92118.326874\n",
       "4  98976.653176"
      ]
     },
     "execution_count": 21,
     "metadata": {},
     "output_type": "execute_result"
    }
   ],
   "source": [
    "y3 = df[[\"price\"]]\n",
    "y3.head()"
   ]
  },
  {
   "cell_type": "code",
   "execution_count": 22,
   "id": "ca3d4451",
   "metadata": {},
   "outputs": [
    {
     "data": {
      "text/html": [
       "<div>\n",
       "<style scoped>\n",
       "    .dataframe tbody tr th:only-of-type {\n",
       "        vertical-align: middle;\n",
       "    }\n",
       "\n",
       "    .dataframe tbody tr th {\n",
       "        vertical-align: top;\n",
       "    }\n",
       "\n",
       "    .dataframe thead th {\n",
       "        text-align: right;\n",
       "    }\n",
       "</style>\n",
       "<table border=\"1\" class=\"dataframe\">\n",
       "  <thead>\n",
       "    <tr style=\"text-align: right;\">\n",
       "      <th></th>\n",
       "      <th>bedroom_count</th>\n",
       "      <th>net_sqm</th>\n",
       "      <th>center_distance</th>\n",
       "      <th>metro_distance</th>\n",
       "      <th>floor</th>\n",
       "      <th>age</th>\n",
       "      <th>Constant</th>\n",
       "    </tr>\n",
       "  </thead>\n",
       "  <tbody>\n",
       "    <tr>\n",
       "      <th>0</th>\n",
       "      <td>1</td>\n",
       "      <td>26.184098</td>\n",
       "      <td>1286.68</td>\n",
       "      <td>204.003817</td>\n",
       "      <td>22</td>\n",
       "      <td>67</td>\n",
       "      <td>1</td>\n",
       "    </tr>\n",
       "    <tr>\n",
       "      <th>1</th>\n",
       "      <td>1</td>\n",
       "      <td>34.866901</td>\n",
       "      <td>1855.25</td>\n",
       "      <td>186.980360</td>\n",
       "      <td>8</td>\n",
       "      <td>30</td>\n",
       "      <td>1</td>\n",
       "    </tr>\n",
       "    <tr>\n",
       "      <th>2</th>\n",
       "      <td>1</td>\n",
       "      <td>36.980709</td>\n",
       "      <td>692.09</td>\n",
       "      <td>111.224999</td>\n",
       "      <td>24</td>\n",
       "      <td>24</td>\n",
       "      <td>1</td>\n",
       "    </tr>\n",
       "    <tr>\n",
       "      <th>3</th>\n",
       "      <td>1</td>\n",
       "      <td>17.445723</td>\n",
       "      <td>1399.49</td>\n",
       "      <td>237.998760</td>\n",
       "      <td>1</td>\n",
       "      <td>66</td>\n",
       "      <td>1</td>\n",
       "    </tr>\n",
       "    <tr>\n",
       "      <th>4</th>\n",
       "      <td>1</td>\n",
       "      <td>52.587646</td>\n",
       "      <td>84.65</td>\n",
       "      <td>100.996400</td>\n",
       "      <td>20</td>\n",
       "      <td>3</td>\n",
       "      <td>1</td>\n",
       "    </tr>\n",
       "  </tbody>\n",
       "</table>\n",
       "</div>"
      ],
      "text/plain": [
       "   bedroom_count    net_sqm  center_distance  metro_distance  floor  age  \\\n",
       "0              1  26.184098          1286.68      204.003817     22   67   \n",
       "1              1  34.866901          1855.25      186.980360      8   30   \n",
       "2              1  36.980709           692.09      111.224999     24   24   \n",
       "3              1  17.445723          1399.49      237.998760      1   66   \n",
       "4              1  52.587646            84.65      100.996400     20    3   \n",
       "\n",
       "   Constant  \n",
       "0         1  \n",
       "1         1  \n",
       "2         1  \n",
       "3         1  \n",
       "4         1  "
      ]
     },
     "execution_count": 22,
     "metadata": {},
     "output_type": "execute_result"
    }
   ],
   "source": [
    "x3 = dfs\n",
    "x3.head()"
   ]
  },
  {
   "cell_type": "code",
   "execution_count": 23,
   "id": "e39c9ca4",
   "metadata": {},
   "outputs": [
    {
     "data": {
      "text/html": [
       "<div>\n",
       "<style scoped>\n",
       "    .dataframe tbody tr th:only-of-type {\n",
       "        vertical-align: middle;\n",
       "    }\n",
       "\n",
       "    .dataframe tbody tr th {\n",
       "        vertical-align: top;\n",
       "    }\n",
       "\n",
       "    .dataframe thead th {\n",
       "        text-align: right;\n",
       "    }\n",
       "</style>\n",
       "<table border=\"1\" class=\"dataframe\">\n",
       "  <thead>\n",
       "    <tr style=\"text-align: right;\">\n",
       "      <th></th>\n",
       "      <th>bedroom_count</th>\n",
       "      <th>net_sqm</th>\n",
       "      <th>center_distance</th>\n",
       "      <th>metro_distance</th>\n",
       "      <th>floor</th>\n",
       "      <th>age</th>\n",
       "    </tr>\n",
       "  </thead>\n",
       "  <tbody>\n",
       "    <tr>\n",
       "      <th>0</th>\n",
       "      <td>1</td>\n",
       "      <td>26.184098</td>\n",
       "      <td>1286.68</td>\n",
       "      <td>204.003817</td>\n",
       "      <td>22</td>\n",
       "      <td>67</td>\n",
       "    </tr>\n",
       "    <tr>\n",
       "      <th>1</th>\n",
       "      <td>1</td>\n",
       "      <td>34.866901</td>\n",
       "      <td>1855.25</td>\n",
       "      <td>186.980360</td>\n",
       "      <td>8</td>\n",
       "      <td>30</td>\n",
       "    </tr>\n",
       "    <tr>\n",
       "      <th>2</th>\n",
       "      <td>1</td>\n",
       "      <td>36.980709</td>\n",
       "      <td>692.09</td>\n",
       "      <td>111.224999</td>\n",
       "      <td>24</td>\n",
       "      <td>24</td>\n",
       "    </tr>\n",
       "    <tr>\n",
       "      <th>3</th>\n",
       "      <td>1</td>\n",
       "      <td>17.445723</td>\n",
       "      <td>1399.49</td>\n",
       "      <td>237.998760</td>\n",
       "      <td>1</td>\n",
       "      <td>66</td>\n",
       "    </tr>\n",
       "    <tr>\n",
       "      <th>4</th>\n",
       "      <td>1</td>\n",
       "      <td>52.587646</td>\n",
       "      <td>84.65</td>\n",
       "      <td>100.996400</td>\n",
       "      <td>20</td>\n",
       "      <td>3</td>\n",
       "    </tr>\n",
       "  </tbody>\n",
       "</table>\n",
       "</div>"
      ],
      "text/plain": [
       "   bedroom_count    net_sqm  center_distance  metro_distance  floor  age\n",
       "0              1  26.184098          1286.68      204.003817     22   67\n",
       "1              1  34.866901          1855.25      186.980360      8   30\n",
       "2              1  36.980709           692.09      111.224999     24   24\n",
       "3              1  17.445723          1399.49      237.998760      1   66\n",
       "4              1  52.587646            84.65      100.996400     20    3"
      ]
     },
     "execution_count": 23,
     "metadata": {},
     "output_type": "execute_result"
    }
   ],
   "source": [
    "x3 = x3.drop(columns = [\"Constant\"])\n",
    "x3.head()"
   ]
  },
  {
   "cell_type": "code",
   "execution_count": 26,
   "id": "f998e488",
   "metadata": {},
   "outputs": [],
   "source": [
    "X2_train, X2_test, y2_train, y2_test = train_test_split(X_poly, y3, test_size = 0.2, random_state = 10)"
   ]
  },
  {
   "cell_type": "code",
   "execution_count": 25,
   "id": "d6f96121",
   "metadata": {},
   "outputs": [],
   "source": [
    "# apply polynomial feature of degree 2\n",
    "degree = 2\n",
    "poly = PolynomialFeatures(degree)\n",
    "X_poly = poly.fit_transform(x3)"
   ]
  },
  {
   "cell_type": "code",
   "execution_count": 32,
   "id": "d99e5023",
   "metadata": {},
   "outputs": [
    {
     "data": {
      "text/plain": [
       "0.729199420144842"
      ]
     },
     "execution_count": 32,
     "metadata": {},
     "output_type": "execute_result"
    }
   ],
   "source": [
    "m1 = LinearRegression()\n",
    "m1.fit(X2_train, y2_train)\n",
    "m1.score(X2_train, y2_train)"
   ]
  },
  {
   "cell_type": "code",
   "execution_count": 30,
   "id": "e1448a5f",
   "metadata": {},
   "outputs": [
    {
     "data": {
      "text/plain": [
       "(3446, 28)"
      ]
     },
     "execution_count": 30,
     "metadata": {},
     "output_type": "execute_result"
    }
   ],
   "source": [
    "X2_train.shape"
   ]
  },
  {
   "cell_type": "code",
   "execution_count": 31,
   "id": "a7ef6e13",
   "metadata": {},
   "outputs": [
    {
     "data": {
      "text/plain": [
       "(862, 28)"
      ]
     },
     "execution_count": 31,
     "metadata": {},
     "output_type": "execute_result"
    }
   ],
   "source": [
    "X2_test.shape"
   ]
  },
  {
   "cell_type": "code",
   "execution_count": 33,
   "id": "4be2638d",
   "metadata": {},
   "outputs": [],
   "source": [
    "y2_pred = m1.predict(X2_test)"
   ]
  },
  {
   "cell_type": "code",
   "execution_count": 35,
   "id": "fba7d848",
   "metadata": {},
   "outputs": [],
   "source": [
    "mse3 = mean_squared_error(y2_test, y2_pred)"
   ]
  },
  {
   "cell_type": "code",
   "execution_count": 36,
   "id": "badde9df",
   "metadata": {},
   "outputs": [
    {
     "data": {
      "text/plain": [
       "4668842.360105744"
      ]
     },
     "execution_count": 36,
     "metadata": {},
     "output_type": "execute_result"
    }
   ],
   "source": [
    "mse3"
   ]
  },
  {
   "cell_type": "code",
   "execution_count": 37,
   "id": "27467e98",
   "metadata": {},
   "outputs": [
    {
     "data": {
      "text/plain": [
       "0.7026006481228426"
      ]
     },
     "execution_count": 37,
     "metadata": {},
     "output_type": "execute_result"
    }
   ],
   "source": [
    "m1.score(X2_test,y2_test)"
   ]
  },
  {
   "cell_type": "code",
   "execution_count": 38,
   "id": "b78b063c",
   "metadata": {},
   "outputs": [
    {
     "data": {
      "text/plain": [
       "121919.07397358306"
      ]
     },
     "execution_count": 38,
     "metadata": {},
     "output_type": "execute_result"
    }
   ],
   "source": [
    "mse3 - 4546923.286132161"
   ]
  },
  {
   "cell_type": "markdown",
   "id": "d644cd5f",
   "metadata": {},
   "source": [
    "## after feature engineering polynomial features by degree 2 there is no much of an improvement it is almost the same as the starting score"
   ]
  },
  {
   "cell_type": "code",
   "execution_count": 39,
   "id": "e7612861",
   "metadata": {},
   "outputs": [],
   "source": [
    "degree = 3\n",
    "polyy = PolynomialFeatures(degree)\n",
    "X_poly1 = polyy.fit_transform(x3)"
   ]
  },
  {
   "cell_type": "code",
   "execution_count": 40,
   "id": "8ee978bb",
   "metadata": {},
   "outputs": [],
   "source": [
    "X2_train, X2_test, y2_train, y2_test = train_test_split(X_poly1, y3, test_size = 0.2, random_state = 10)"
   ]
  },
  {
   "cell_type": "code",
   "execution_count": 41,
   "id": "9541bce7",
   "metadata": {},
   "outputs": [
    {
     "data": {
      "text/plain": [
       "0.7591437477024334"
      ]
     },
     "execution_count": 41,
     "metadata": {},
     "output_type": "execute_result"
    }
   ],
   "source": [
    "m1 = LinearRegression()\n",
    "m1.fit(X2_train, y2_train)\n",
    "m1.score(X2_train, y2_train)"
   ]
  },
  {
   "cell_type": "code",
   "execution_count": 42,
   "id": "0388d226",
   "metadata": {},
   "outputs": [],
   "source": [
    "y2_pred1 = m1.predict(X2_test)"
   ]
  },
  {
   "cell_type": "code",
   "execution_count": 43,
   "id": "0a1f9da9",
   "metadata": {},
   "outputs": [],
   "source": [
    "mse4 = mean_squared_error(y2_test, y2_pred1)"
   ]
  },
  {
   "cell_type": "code",
   "execution_count": 44,
   "id": "95c6d715",
   "metadata": {},
   "outputs": [
    {
     "data": {
      "text/plain": [
       "4580824.307536848"
      ]
     },
     "execution_count": 44,
     "metadata": {},
     "output_type": "execute_result"
    }
   ],
   "source": [
    "mse4"
   ]
  },
  {
   "cell_type": "code",
   "execution_count": 45,
   "id": "c048975c",
   "metadata": {},
   "outputs": [
    {
     "data": {
      "text/plain": [
       "0.7082072867215564"
      ]
     },
     "execution_count": 45,
     "metadata": {},
     "output_type": "execute_result"
    }
   ],
   "source": [
    "m1.score(X2_test,y2_test)"
   ]
  },
  {
   "cell_type": "code",
   "execution_count": 46,
   "id": "adf84ac3",
   "metadata": {},
   "outputs": [
    {
     "data": {
      "text/plain": [
       "-88018.05256889574"
      ]
     },
     "execution_count": 46,
     "metadata": {},
     "output_type": "execute_result"
    }
   ],
   "source": [
    "mse4-mse3"
   ]
  },
  {
   "cell_type": "markdown",
   "id": "3b4f85f0",
   "metadata": {},
   "source": [
    "# after changing the degree to 3 only training set showed siginificant improvement but test set showed almost the same score but the error reduced"
   ]
  },
  {
   "cell_type": "code",
   "execution_count": null,
   "id": "d5bbc866",
   "metadata": {},
   "outputs": [],
   "source": []
  }
 ],
 "metadata": {
  "kernelspec": {
   "display_name": "base",
   "language": "python",
   "name": "base"
  },
  "language_info": {
   "codemirror_mode": {
    "name": "ipython",
    "version": 3
   },
   "file_extension": ".py",
   "mimetype": "text/x-python",
   "name": "python",
   "nbconvert_exporter": "python",
   "pygments_lexer": "ipython3",
   "version": "3.9.13"
  }
 },
 "nbformat": 4,
 "nbformat_minor": 5
}
